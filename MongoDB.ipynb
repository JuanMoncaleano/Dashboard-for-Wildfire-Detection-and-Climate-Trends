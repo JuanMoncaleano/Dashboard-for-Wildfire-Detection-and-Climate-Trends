{
 "cells": [
  {
   "cell_type": "code",
   "execution_count": 1,
   "id": "999ef168",
   "metadata": {},
   "outputs": [],
   "source": [
    "import pymongo\n",
    "from pymongo import MongoClient\n",
    "import pandas as pd"
   ]
  },
  {
   "cell_type": "code",
   "execution_count": 2,
   "id": "e5c48c85",
   "metadata": {},
   "outputs": [],
   "source": [
    "client = MongoClient(\"mongodb://localhost:27017/\")"
   ]
  },
  {
   "cell_type": "code",
   "execution_count": 3,
   "id": "d9a481fb",
   "metadata": {},
   "outputs": [
    {
     "name": "stdout",
     "output_type": "stream",
     "text": [
      "['Climate_Fires', 'admin', 'config', 'local']\n"
     ]
    }
   ],
   "source": [
    "database_names = client.list_database_names()\n",
    "print(database_names)"
   ]
  },
  {
   "cell_type": "code",
   "execution_count": 4,
   "id": "4d0d72d6",
   "metadata": {},
   "outputs": [],
   "source": [
    "db = client['Climate_Fires']"
   ]
  },
  {
   "cell_type": "code",
   "execution_count": 5,
   "id": "caa50fbf",
   "metadata": {},
   "outputs": [
    {
     "name": "stdout",
     "output_type": "stream",
     "text": [
      "['Fire_Point', 'Clean_Climate_Data', 'Fire_Area']\n"
     ]
    }
   ],
   "source": [
    "collection_names = db.list_collection_names()\n",
    "print(collection_names)"
   ]
  },
  {
   "cell_type": "code",
   "execution_count": 6,
   "id": "40e4d41c",
   "metadata": {},
   "outputs": [],
   "source": [
    "Fire_Point = db['Fire_Point']\n",
    "Clean_Climate_Data = db['Clean_Climate_Data']\n",
    "Fire_Area = db['Fire_Area']"
   ]
  },
  {
   "cell_type": "code",
   "execution_count": 7,
   "id": "464abb3f",
   "metadata": {},
   "outputs": [
    {
     "name": "stdout",
     "output_type": "stream",
     "text": [
      "Number of fires started from May to September in 1976: 103\n",
      "Number of fires started from May to September in 1977: 44\n",
      "Number of fires started from May to September in 1978: 4\n",
      "Number of fires started from May to September in 1979: 18\n",
      "Number of fires started from May to September in 1980: 57\n",
      "Number of fires started from May to September in 1981: 50\n",
      "Number of fires started from May to September in 1982: 3\n",
      "Number of fires started from May to September in 1983: 77\n",
      "Number of fires started from May to September in 1984: 19\n",
      "Number of fires started from May to September in 1985: 0\n",
      "Number of fires started from May to September in 1986: 21\n",
      "Number of fires started from May to September in 1987: 32\n",
      "Number of fires started from May to September in 1988: 80\n",
      "Number of fires started from May to September in 1989: 128\n",
      "Number of fires started from May to September in 1990: 46\n",
      "Number of fires started from May to September in 1991: 52\n",
      "Number of fires started from May to September in 1992: 26\n",
      "Number of fires started from May to September in 1993: 15\n",
      "Number of fires started from May to September in 1994: 32\n",
      "Number of fires started from May to September in 1995: 112\n",
      "Number of fires started from May to September in 1996: 124\n",
      "Number of fires started from May to September in 1997: 16\n",
      "Number of fires started from May to September in 1998: 94\n",
      "Number of fires started from May to September in 1999: 61\n",
      "Number of fires started from May to September in 2000: 15\n",
      "Number of fires started from May to September in 2001: 37\n",
      "Number of fires started from May to September in 2002: 83\n",
      "Number of fires started from May to September in 2003: 49\n",
      "Number of fires started from May to September in 2004: 0\n",
      "Number of fires started from May to September in 2005: 25\n",
      "Number of fires started from May to September in 2006: 112\n",
      "Number of fires started from May to September in 2007: 20\n",
      "Number of fires started from May to September in 2008: 5\n",
      "Number of fires started from May to September in 2009: 27\n",
      "Number of fires started from May to September in 2010: 22\n",
      "Number of fires started from May to September in 2011: 101\n",
      "Number of fires started from May to September in 2012: 80\n",
      "Number of fires started from May to September in 2013: 41\n",
      "Number of fires started from May to September in 2014: 11\n",
      "Number of fires started from May to September in 2015: 42\n",
      "Number of fires started from May to September in 2016: 17\n",
      "Number of fires started from May to September in 2017: 77\n",
      "Number of fires started from May to September in 2018: 102\n",
      "Number of fires started from May to September in 2019: 31\n",
      "Number of fires started from May to September in 2020: 34\n",
      "Number of fires started from May to September in 2021: 110\n",
      "Number of fires started from May to September in 2022: 8\n",
      "\n",
      "Total number of fires started from May to September from 1976 to 2022: 2263\n"
     ]
    }
   ],
   "source": [
    "years = list(range(1976, 2023))\n",
    "total_fires_may_to_september = 0\n",
    "\n",
    "# Count the number of matching fires for each year\n",
    "for year in years:\n",
    "    # Query fires started from May to September for the current year\n",
    "    query = {\n",
    "        \"FIRE_START_DATE\": {\n",
    "            \"$gte\": f\"{year}/05/01\",\n",
    "            \"$lte\": f\"{year}/09/30\"\n",
    "        }\n",
    "    }\n",
    "    \n",
    "    num_fires_may_to_september = Fire_Area.count_documents(query)\n",
    "    total_fires_may_to_september += num_fires_may_to_september\n",
    "    \n",
    "    print(f\"Number of fires started from May to September in {year}: {num_fires_may_to_september}\")\n",
    "\n",
    "# Print the total sum\n",
    "print(\"\\nTotal number of fires started from May to September from 1976 to 2022:\", total_fires_may_to_september)\n"
   ]
  },
  {
   "cell_type": "code",
   "execution_count": 23,
   "id": "c6e13758",
   "metadata": {},
   "outputs": [
    {
     "name": "stdout",
     "output_type": "stream",
     "text": [
      "IDF: 45\n",
      "IDO: 16\n",
      "INC: 16\n",
      "LTG: 2005\n",
      "MIS: 89\n",
      "REC: 61\n",
      "RES: 35\n",
      "RWY: 46\n",
      "UNK: 31\n"
     ]
    }
   ],
   "source": [
    "# Define the possible FIRE_GENERAL_CAUSE_CODE values\n",
    "cause_codes = [\"IDF\", \"IDO\", \"INC\", \"LTG\", \"MIS\", \"REC\", \"RES\", \"RWY\", \"UNK\"]\n",
    "\n",
    "# Initialize a dictionary to count the occurrences of each cause code\n",
    "cause_code_counts = {code: 0 for code in cause_codes}\n",
    "\n",
    "# Query documents with FIRE_GENERAL_CAUSE_CODE and specific years, then aggregate counts\n",
    "pipeline = [\n",
    "    {\n",
    "        \"$match\": {\n",
    "            \"FIRE_GENERAL_CAUSE_CODE\": {\"$in\": cause_codes},\n",
    "            \"FIRE_YEAR\": {\"$gte\": 1976, \"$lte\": 2023}\n",
    "        }\n",
    "    },\n",
    "    {\n",
    "        \"$group\": {\n",
    "            \"_id\": \"$FIRE_GENERAL_CAUSE_CODE\",\n",
    "            \"count\": {\"$sum\": 1}\n",
    "        }\n",
    "    }\n",
    "]\n",
    "\n",
    "# Execute the aggregation and update cause_code_counts dictionary\n",
    "result = list(Fire_Area.aggregate(pipeline))\n",
    "for item in result:\n",
    "    cause_code_counts[item['_id']] = item['count']\n",
    "\n",
    "# Print the cause code counts\n",
    "for code, count in cause_code_counts.items():\n",
    "    print(f\"{code}: {count}\")\n"
   ]
  },
  {
   "cell_type": "code",
   "execution_count": 8,
   "id": "fd783d9d",
   "metadata": {},
   "outputs": [
    {
     "name": "stdout",
     "output_type": "stream",
     "text": [
      "Total number of fires from 1976 to 2023: 2345\n"
     ]
    }
   ],
   "source": [
    "query_total = {\n",
    "    \"FIRE_START_DATE\": {\n",
    "        \"$gte\": \"1976/01/01\",\n",
    "        \"$lte\": \"2023/12/31\"\n",
    "    }\n",
    "}\n",
    "total_num_fires = Fire_Area.count_documents(query_total)\n",
    "\n",
    "# Print the total number of fires\n",
    "print(\"Total number of fires from 1976 to 2023:\", total_num_fires)"
   ]
  },
  {
   "cell_type": "code",
   "execution_count": 9,
   "id": "1056151b",
   "metadata": {
    "scrolled": false
   },
   "outputs": [
    {
     "name": "stdout",
     "output_type": "stream",
     "text": [
      "Percentage of Fires started from May to September out of all total fires is 96%\n"
     ]
    }
   ],
   "source": [
    "print(\"Percentage of Fires started from May to September out of all total fires is 96%\")"
   ]
  },
  {
   "cell_type": "code",
   "execution_count": 10,
   "id": "92e82e0b",
   "metadata": {},
   "outputs": [
    {
     "name": "stdout",
     "output_type": "stream",
     "text": [
      "Largest FIRE_FINAL_SIZE: 191811\n",
      "Fire start date for the largest fire: 2021/06/05 00:00:00+00\n"
     ]
    }
   ],
   "source": [
    "# Find the largest fire final size\n",
    "largest_fire_document = Fire_Area.find_one(sort=[('FIRE_FINAL_SIZE', -1)])\n",
    "\n",
    "if largest_fire_document:\n",
    "    largest_fire_start_date = largest_fire_document['FIRE_START_DATE']\n",
    "    largest_fire_final_size = largest_fire_document['FIRE_FINAL_SIZE']\n",
    "\n",
    "    print(\"Largest FIRE_FINAL_SIZE:\", largest_fire_final_size)\n",
    "    print(\"Fire start date for the largest fire:\", largest_fire_start_date)\n",
    "else:\n",
    "    print(\"No data found for the largest fire.\")"
   ]
  },
  {
   "cell_type": "code",
   "execution_count": 11,
   "id": "3d4c3b30",
   "metadata": {},
   "outputs": [
    {
     "name": "stdout",
     "output_type": "stream",
     "text": [
      "Average temperature from May to September (1976 to 2023): 4.939358994756285\n"
     ]
    }
   ],
   "source": [
    "query = {\n",
    "    \"LOCAL_DATE\": {\"$gte\": \"1976-05\", \"$lte\": \"2023-09\"}\n",
    "}\n",
    "\n",
    "matching_documents = Clean_Climate_Data.find(query)\n",
    "\n",
    "total_temperature = 0\n",
    "total_records = 0\n",
    "\n",
    "# Calculate the total temperature and count of records\n",
    "for document in matching_documents:\n",
    "    total_temperature += document['MEAN_TEMPERATURE']\n",
    "    total_records += 1\n",
    "\n",
    "# Calculate the average temperature\n",
    "if total_records > 0:\n",
    "    average_temperature = total_temperature / total_records\n",
    "    print(\"Average temperature from May to September (1976 to 2023):\", average_temperature)\n",
    "else:\n",
    "    print(\"No data found for the specified criteria.\")\n"
   ]
  },
  {
   "cell_type": "code",
   "execution_count": 13,
   "id": "19dfcc8f",
   "metadata": {},
   "outputs": [
    {
     "name": "stdout",
     "output_type": "stream",
     "text": [
      "Highest temperature from 1976 to 2023: 24.83703703703704\n"
     ]
    }
   ],
   "source": [
    "query = {\n",
    "    \"LOCAL_YEAR\": {\"$gte\": 1976, \"$lte\": 2023}\n",
    "}\n",
    "\n",
    "matching_documents = Clean_Climate_Data.find(query)\n",
    "\n",
    "highest_temperature = float('-inf')  \n",
    "\n",
    "for document in matching_documents:\n",
    "    mean_temperature = document['MEAN_TEMPERATURE']\n",
    "    if mean_temperature > highest_temperature:\n",
    "        highest_temperature = mean_temperature\n",
    "\n",
    "if highest_temperature != float('-inf'):\n",
    "    print(\"Highest temperature from 1976 to 2023:\", highest_temperature)\n",
    "else:\n",
    "    print(\"No data found for the specified years.\")"
   ]
  },
  {
   "cell_type": "code",
   "execution_count": 14,
   "id": "fd145ec0",
   "metadata": {},
   "outputs": [
    {
     "name": "stdout",
     "output_type": "stream",
     "text": [
      "Highest temperature date: 2010-07\n"
     ]
    }
   ],
   "source": [
    "query = {\n",
    "    \"LOCAL_YEAR\": {\"$gte\": 1976, \"$lte\": 2023}\n",
    "}\n",
    "\n",
    "matching_documents = Clean_Climate_Data.find(query)\n",
    "\n",
    "highest_temperature = float('-inf')  # Initialize with negative infinity\n",
    "highest_temperature_date = None\n",
    "\n",
    "for document in matching_documents:\n",
    "    mean_temperature = document['MEAN_TEMPERATURE']\n",
    "    if mean_temperature > highest_temperature:\n",
    "        highest_temperature = mean_temperature\n",
    "        highest_temperature_date = document['LOCAL_DATE']\n",
    "\n",
    "if highest_temperature_date:\n",
    "    print(\"Highest temperature date:\", highest_temperature_date)\n",
    "else:\n",
    "    print(\"No data found for the specified years.\")"
   ]
  },
  {
   "cell_type": "code",
   "execution_count": 21,
   "id": "b8f9bdce",
   "metadata": {},
   "outputs": [
    {
     "name": "stdout",
     "output_type": "stream",
     "text": [
      "IDF: 1215\n",
      "IDO: 816\n",
      "INC: 1340\n",
      "LTG: 30320\n",
      "MIS: 6550\n",
      "REC: 11332\n",
      "RES: 6372\n",
      "RWY: 4498\n",
      "UNK: 1262\n"
     ]
    }
   ],
   "source": [
    "# Define the possible FIRE_GENERAL_CAUSE_CODE values\n",
    "cause_codes = [\"IDF\", \"IDO\", \"INC\", \"LTG\", \"MIS\", \"REC\", \"RES\", \"RWY\", \"UNK\"]\n",
    "\n",
    "# Initialize a dictionary to count the occurrences of each cause code\n",
    "cause_code_counts = {code: 0 for code in cause_codes}\n",
    "\n",
    "# Query documents with FIRE_GENERAL_CAUSE_CODE and aggregate counts\n",
    "pipeline = [\n",
    "    {\n",
    "        \"$match\": {\n",
    "            \"FIRE_GENERAL_CAUSE_CODE\": {\"$in\": cause_codes}\n",
    "        }\n",
    "    },\n",
    "    {\n",
    "        \"$group\": {\n",
    "            \"_id\": \"$FIRE_GENERAL_CAUSE_CODE\",\n",
    "            \"count\": {\"$sum\": 1}\n",
    "        }\n",
    "    }\n",
    "]\n",
    "\n",
    "# Execute the aggregation and update cause_code_counts dictionary\n",
    "result = list(Fire_Point.aggregate(pipeline))\n",
    "for item in result:\n",
    "    cause_code_counts[item['_id']] = item['count']\n",
    "\n",
    "# Print the cause code counts\n",
    "for code, count in cause_code_counts.items():\n",
    "    print(f\"{code}: {count}\")\n"
   ]
  },
  {
   "cell_type": "code",
   "execution_count": 18,
   "id": "8f88337a",
   "metadata": {
    "scrolled": true
   },
   "outputs": [
    {
     "name": "stdout",
     "output_type": "stream",
     "text": [
      "Unique Field Names: dict_keys(['_id', 'X', 'Y', 'OGF_ID', 'FIRE_DISTURBANCE_AREA_IDENT', 'FIRE_TYPE_CODE', 'FIRE_YEAR', 'FIRE_GENERAL_CAUSE_CODE', 'FIRE_RESPONSE_OBJ_CODE', 'FIRE_START_DATE', 'FIRE_OUT_DATE', 'FIRE_FINAL_SIZE', 'BUSINESS_EFFECTIVE_DATE', 'EFFECTIVE_DATETIME', 'SYSTEM_DATETIME', 'OBJECTID'])\n"
     ]
    }
   ],
   "source": [
    "sample_document = Fire_Point.find_one()\n",
    "\n",
    "# Print the unique field names in the sample document\n",
    "unique_field_names = sample_document.keys()\n",
    "print(\"Unique Field Names:\", unique_field_names)"
   ]
  },
  {
   "cell_type": "code",
   "execution_count": null,
   "id": "264dbf79",
   "metadata": {},
   "outputs": [],
   "source": [
    "\n",
    "\n"
   ]
  },
  {
   "cell_type": "code",
   "execution_count": null,
   "id": "b265ed1d",
   "metadata": {},
   "outputs": [],
   "source": []
  },
  {
   "cell_type": "code",
   "execution_count": null,
   "id": "fb3a561b",
   "metadata": {},
   "outputs": [],
   "source": []
  }
 ],
 "metadata": {
  "kernelspec": {
   "display_name": "Python 3 (ipykernel)",
   "language": "python",
   "name": "python3"
  },
  "language_info": {
   "codemirror_mode": {
    "name": "ipython",
    "version": 3
   },
   "file_extension": ".py",
   "mimetype": "text/x-python",
   "name": "python",
   "nbconvert_exporter": "python",
   "pygments_lexer": "ipython3",
   "version": "3.10.11"
  }
 },
 "nbformat": 4,
 "nbformat_minor": 5
}
