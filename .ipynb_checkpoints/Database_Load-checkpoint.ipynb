{
 "cells": [
  {
   "cell_type": "code",
   "execution_count": 1,
   "id": "cfed1c43",
   "metadata": {},
   "outputs": [],
   "source": [
    "# OPEN A TERMINAL WHERE THESE FILES ARE LOCATED AND, WITH MONGOSH OPEN, RUN THESE COMMANDS\n",
    "\n",
    "# mongoimport --type csv -d wildfires -c Clean_Climate_Data --headerline --drop climate-data-cleaned.csv\n",
    "\n",
    "# mongoimport --type csv -d wildfires -c Fire_Point --headerline --drop Fire_Disturbance_Point.csv\n",
    "\n",
    "# mongoimport --type csv -d wildfires -c Fire_Area --headerline --drop Fire_Disturbance_Area.csv\n",
    "\n",
    "\n",
    "import pymongo\n",
    "from pymongo import MongoClient\n",
    "import pandas as pd"
   ]
  },
  {
   "cell_type": "code",
   "execution_count": 2,
   "id": "4066e94f",
   "metadata": {},
   "outputs": [],
   "source": [
    "# Create an instance of MongoClient\n",
    "\n",
    "client = MongoClient(\"mongodb://localhost:27017/\")"
   ]
  },
  {
   "cell_type": "code",
   "execution_count": 3,
   "id": "fb082cf1",
   "metadata": {},
   "outputs": [
    {
     "name": "stdout",
     "output_type": "stream",
     "text": [
      "['admin', 'autosaurus', 'classDB', 'config', 'epa', 'fruits_db', 'local', 'met', 'petsitly_marketing', 'travel_db', 'uk_food', 'wildfires']\n"
     ]
    }
   ],
   "source": [
    "# confirm that our new database was created\n",
    "database_names = client.list_database_names()\n",
    "print(database_names)"
   ]
  },
  {
   "cell_type": "code",
   "execution_count": 4,
   "id": "6a22ee79",
   "metadata": {},
   "outputs": [],
   "source": [
    "# assign the database to a variable name\n",
    "db = client['wildfires']"
   ]
  },
  {
   "cell_type": "code",
   "execution_count": 5,
   "id": "c59bf02a",
   "metadata": {},
   "outputs": [
    {
     "name": "stdout",
     "output_type": "stream",
     "text": [
      "['fires', 'Fire_Area', 'Clean_Climate_Data', 'climate', 'Fire_Point']\n"
     ]
    }
   ],
   "source": [
    "collection_names = db.list_collection_names()\n",
    "print(collection_names)"
   ]
  },
  {
   "cell_type": "code",
   "execution_count": 6,
   "id": "8b30ee72",
   "metadata": {},
   "outputs": [],
   "source": [
    "Fire_Point = db['Fire_Point']\n",
    "Clean_Climate_Data = db['Clean_Climate_Data']\n",
    "Fire_Area = db['Fire_Area']"
   ]
  },
  {
   "cell_type": "code",
   "execution_count": 7,
   "id": "28836016",
   "metadata": {},
   "outputs": [
    {
     "name": "stdout",
     "output_type": "stream",
     "text": [
      "Number of fires started from May to September in 1976: 103\n",
      "Number of fires started from May to September in 1977: 44\n",
      "Number of fires started from May to September in 1978: 4\n",
      "Number of fires started from May to September in 1979: 18\n",
      "Number of fires started from May to September in 1980: 57\n",
      "Number of fires started from May to September in 1981: 50\n",
      "Number of fires started from May to September in 1982: 3\n",
      "Number of fires started from May to September in 1983: 77\n",
      "Number of fires started from May to September in 1984: 19\n",
      "Number of fires started from May to September in 1985: 0\n",
      "Number of fires started from May to September in 1986: 21\n",
      "Number of fires started from May to September in 1987: 32\n",
      "Number of fires started from May to September in 1988: 80\n",
      "Number of fires started from May to September in 1989: 128\n",
      "Number of fires started from May to September in 1990: 46\n",
      "Number of fires started from May to September in 1991: 52\n",
      "Number of fires started from May to September in 1992: 26\n",
      "Number of fires started from May to September in 1993: 15\n",
      "Number of fires started from May to September in 1994: 32\n",
      "Number of fires started from May to September in 1995: 112\n",
      "Number of fires started from May to September in 1996: 124\n",
      "Number of fires started from May to September in 1997: 16\n",
      "Number of fires started from May to September in 1998: 94\n",
      "Number of fires started from May to September in 1999: 61\n",
      "Number of fires started from May to September in 2000: 15\n",
      "Number of fires started from May to September in 2001: 37\n",
      "Number of fires started from May to September in 2002: 83\n",
      "Number of fires started from May to September in 2003: 49\n",
      "Number of fires started from May to September in 2004: 0\n",
      "Number of fires started from May to September in 2005: 25\n",
      "Number of fires started from May to September in 2006: 112\n",
      "Number of fires started from May to September in 2007: 20\n",
      "Number of fires started from May to September in 2008: 5\n",
      "Number of fires started from May to September in 2009: 27\n",
      "Number of fires started from May to September in 2010: 22\n",
      "Number of fires started from May to September in 2011: 101\n",
      "Number of fires started from May to September in 2012: 80\n",
      "Number of fires started from May to September in 2013: 41\n",
      "Number of fires started from May to September in 2014: 11\n",
      "Number of fires started from May to September in 2015: 42\n",
      "Number of fires started from May to September in 2016: 17\n",
      "Number of fires started from May to September in 2017: 77\n",
      "Number of fires started from May to September in 2018: 102\n",
      "Number of fires started from May to September in 2019: 31\n",
      "Number of fires started from May to September in 2020: 34\n",
      "Number of fires started from May to September in 2021: 110\n",
      "Number of fires started from May to September in 2022: 8\n",
      "\n",
      "Total number of fires started from May to September from 1976 to 2022: 2263\n"
     ]
    }
   ],
   "source": [
    "years = list(range(1976, 2023))\n",
    "total_fires_may_to_september = 0\n",
    "\n",
    "# Count the number of matching fires for each year\n",
    "for year in years:\n",
    "    # Query fires started from May to September for the current year\n",
    "    query = {\n",
    "        \"FIRE_START_DATE\": {\n",
    "            \"$gte\": f\"{year}/05/01\",\n",
    "            \"$lte\": f\"{year}/09/30\"\n",
    "        }\n",
    "    }\n",
    "    \n",
    "    num_fires_may_to_september = Fire_Area.count_documents(query)\n",
    "    total_fires_may_to_september += num_fires_may_to_september\n",
    "    \n",
    "    print(f\"Number of fires started from May to September in {year}: {num_fires_may_to_september}\")\n",
    "\n",
    "# Print the total sum\n",
    "print(\"\\nTotal number of fires started from May to September from 1976 to 2022:\", total_fires_may_to_september)"
   ]
  },
  {
   "cell_type": "code",
   "execution_count": 8,
   "id": "c78d3bdb",
   "metadata": {},
   "outputs": [
    {
     "name": "stdout",
     "output_type": "stream",
     "text": [
      "IDF: 45\n",
      "IDO: 16\n",
      "INC: 16\n",
      "LTG: 2005\n",
      "MIS: 89\n",
      "REC: 61\n",
      "RES: 35\n",
      "RWY: 46\n",
      "UNK: 31\n"
     ]
    }
   ],
   "source": [
    "# Define the possible FIRE_GENERAL_CAUSE_CODE values\n",
    "cause_codes = [\"IDF\", \"IDO\", \"INC\", \"LTG\", \"MIS\", \"REC\", \"RES\", \"RWY\", \"UNK\"]\n",
    "\n",
    "# Initialize a dictionary to count the occurrences of each cause code\n",
    "cause_code_counts = {code: 0 for code in cause_codes}\n",
    "\n",
    "# Query documents with FIRE_GENERAL_CAUSE_CODE and specific years, then aggregate counts\n",
    "pipeline = [\n",
    "    {\n",
    "        \"$match\": {\n",
    "            \"FIRE_GENERAL_CAUSE_CODE\": {\"$in\": cause_codes},\n",
    "            \"FIRE_YEAR\": {\"$gte\": 1976, \"$lte\": 2023}\n",
    "        }\n",
    "    },\n",
    "    {\n",
    "        \"$group\": {\n",
    "            \"_id\": \"$FIRE_GENERAL_CAUSE_CODE\",\n",
    "            \"count\": {\"$sum\": 1}\n",
    "        }\n",
    "    }\n",
    "]\n",
    "\n",
    "# Execute the aggregation and update cause_code_counts dictionary\n",
    "result = list(Fire_Area.aggregate(pipeline))\n",
    "for item in result:\n",
    "    cause_code_counts[item['_id']] = item['count']\n",
    "\n",
    "# Print the cause code counts\n",
    "for code, count in cause_code_counts.items():\n",
    "    print(f\"{code}: {count}\")"
   ]
  },
  {
   "cell_type": "code",
   "execution_count": 7,
   "id": "03ca4420",
   "metadata": {},
   "outputs": [
    {
     "name": "stdout",
     "output_type": "stream",
     "text": [
      "[{'_id': 1999, 'count': 1049, 'total_burn': 388568.8}, {'_id': 2000, 'count': 659, 'total_burn': 9268.9}, {'_id': 2001, 'count': 1602, 'total_burn': 16700.9}, {'_id': 2002, 'count': 1162, 'total_burn': 182219.7}, {'_id': 2003, 'count': 1040, 'total_burn': 319212.0}, {'_id': 2004, 'count': 434, 'total_burn': 1817.0}, {'_id': 2005, 'count': 1964, 'total_burn': 42513.0}]\n"
     ]
    }
   ],
   "source": [
    "## FIRE BY YEAR PIPELINE!!\n",
    "\n",
    "\n",
    "# # Define the possible FIRE_GENERAL_CAUSE_CODE values\n",
    "# cause_codes = [\"IDF\", \"IDO\", \"INC\", \"LTG\", \"MIS\", \"REC\", \"RES\", \"RWY\", \"UNK\"]\n",
    "\n",
    "# # Initialize a dictionary to count the occurrences of each cause code\n",
    "# cause_code_counts = {code: 0 for code in cause_codes}\n",
    "\n",
    "start = 1999\n",
    "end = 2005\n",
    "\n",
    "\n",
    "# Query documents with FIRE_GENERAL_CAUSE_CODE and specific years, then aggregate counts\n",
    "pipeline = [\n",
    "    {\n",
    "        \"$match\": {\n",
    "             \"FIRE_YEAR\": {\"$gte\": start, \"$lte\": end}\n",
    "        }\n",
    "    },\n",
    "    {\n",
    "        \"$group\": {\n",
    "             \"_id\": \"$FIRE_YEAR\",\n",
    "            \"count\": {\"$sum\": 1},\n",
    "             \"total_burn\": {\"$sum\": \"$FIRE_FINAL_SIZE\"}\n",
    "         }\n",
    "     },\n",
    "    {\n",
    "        \"$sort\": {\n",
    "             '_id': 1\n",
    "        }\n",
    "     }\n",
    "    ]\n",
    "\n",
    "# Execute the aggregation and update cause_code_counts dictionary\n",
    "result = list(Fire_Point.aggregate(pipeline))\n",
    "\n",
    "print(result)\n",
    "# for item in result:\n",
    "#     cause_code_counts[item['_id']] = item['count']\n",
    "\n",
    "# # Print the cause code counts\n",
    "# for code, count in cause_code_counts.items():\n",
    "#     print(f\"{code}: {count}\")"
   ]
  },
  {
   "cell_type": "code",
   "execution_count": 21,
   "id": "fa0bfdbc",
   "metadata": {},
   "outputs": [
    {
     "name": "stdout",
     "output_type": "stream",
     "text": [
      "[{'_id': 1999, 'precip': 15126.1, 'mean_temp': 6.041191351995993}, {'_id': 2000, 'precip': 15053.7, 'mean_temp': 4.665910998783832}, {'_id': 2001, 'precip': 13616.8, 'mean_temp': 5.988404801288723}, {'_id': 2002, 'precip': 13548.8, 'mean_temp': 5.1788642153914095}, {'_id': 2003, 'precip': 16135.9, 'mean_temp': 4.416651284785644}, {'_id': 2004, 'precip': 16119.2, 'mean_temp': 4.1344977488888635}, {'_id': 2005, 'precip': 12919.8, 'mean_temp': 5.310479325232853}]\n"
     ]
    }
   ],
   "source": [
    "## CLIMATE BY YEAR\n",
    "\n",
    "pipeline = [\n",
    "    {\n",
    "        \"$match\": {\n",
    "            \"LOCAL_YEAR\": {\"$gte\": start, \"$lte\": end}\n",
    "        }\n",
    "    },\n",
    "    {\n",
    "        \"$group\": {\n",
    "            \"_id\": \"$LOCAL_YEAR\",\n",
    "            \"precip\": {\"$sum\": '$TOTAL_PRECIPITATION'},\n",
    "            \"mean_temp\": {\"$avg\": \"$MEAN_TEMPERATURE\"}\n",
    "        }\n",
    "    },\n",
    "    {\n",
    "        \"$sort\": {\n",
    "            '_id': 1\n",
    "        }\n",
    "    }\n",
    "]\n",
    "\n",
    "result = list(Clean_Climate_Data.aggregate(pipeline))\n",
    "print(result)"
   ]
  },
  {
   "cell_type": "code",
   "execution_count": 22,
   "id": "a10b1e7d",
   "metadata": {},
   "outputs": [
    {
     "name": "stdout",
     "output_type": "stream",
     "text": [
      "Total number of fires from 1976 to 2023: 2345\n"
     ]
    }
   ],
   "source": [
    "query_total = {\n",
    "    \"FIRE_START_DATE\": {\n",
    "        \"$gte\": \"1976/01/01\",\n",
    "        \"$lte\": \"2023/12/31\"\n",
    "    }\n",
    "}\n",
    "total_num_fires = Fire_Area.count_documents(query_total)\n",
    "\n",
    "# Print the total number of fires\n",
    "print(\"Total number of fires from 1976 to 2023:\", total_num_fires)"
   ]
  },
  {
   "cell_type": "code",
   "execution_count": null,
   "id": "f8d7d5d5",
   "metadata": {},
   "outputs": [],
   "source": []
  },
  {
   "cell_type": "code",
   "execution_count": 23,
   "id": "2b2065c0",
   "metadata": {},
   "outputs": [
    {
     "name": "stdout",
     "output_type": "stream",
     "text": [
      "Percentage of Fires started from May to September out of all total fires is 96%\n"
     ]
    }
   ],
   "source": [
    "print(\"Percentage of Fires started from May to September out of all total fires is 96%\")"
   ]
  },
  {
   "cell_type": "code",
   "execution_count": 24,
   "id": "dc793e5e",
   "metadata": {},
   "outputs": [
    {
     "name": "stdout",
     "output_type": "stream",
     "text": [
      "Average temperature from May to September (1976 to 2023): 4.939358994756285\n"
     ]
    }
   ],
   "source": [
    "query = {\n",
    "    \"LOCAL_DATE\": {\"$gte\": \"1976-05\", \"$lte\": \"2023-09\"}\n",
    "}\n",
    "\n",
    "matching_documents = Clean_Climate_Data.find(query)\n",
    "\n",
    "total_temperature = 0\n",
    "total_records = 0\n",
    "\n",
    "# Calculate the total temperature and count of records\n",
    "for document in matching_documents:\n",
    "    total_temperature += document['MEAN_TEMPERATURE']\n",
    "    total_records += 1\n",
    "\n",
    "# Calculate the average temperature\n",
    "if total_records > 0:\n",
    "    average_temperature = total_temperature / total_records\n",
    "    print(\"Average temperature from May to September (1976 to 2023):\", average_temperature)\n",
    "else:\n",
    "    print(\"No data found for the specified criteria.\")"
   ]
  },
  {
   "cell_type": "code",
   "execution_count": 25,
   "id": "9d18305d",
   "metadata": {},
   "outputs": [
    {
     "name": "stdout",
     "output_type": "stream",
     "text": [
      "Highest temperature from 1976 to 2023: 24.83703703703704\n"
     ]
    }
   ],
   "source": [
    "query = {\n",
    "    \"LOCAL_YEAR\": {\"$gte\": 1976, \"$lte\": 2023}\n",
    "}\n",
    "\n",
    "matching_documents = Clean_Climate_Data.find(query)\n",
    "\n",
    "highest_temperature = float('-inf')  \n",
    "\n",
    "for document in matching_documents:\n",
    "    mean_temperature = document['MEAN_TEMPERATURE']\n",
    "    if mean_temperature > highest_temperature:\n",
    "        highest_temperature = mean_temperature\n",
    "\n",
    "if highest_temperature != float('-inf'):\n",
    "    print(\"Highest temperature from 1976 to 2023:\", highest_temperature)\n",
    "else:\n",
    "    print(\"No data found for the specified years.\")"
   ]
  },
  {
   "cell_type": "code",
   "execution_count": 26,
   "id": "bd5657d5",
   "metadata": {},
   "outputs": [
    {
     "name": "stdout",
     "output_type": "stream",
     "text": [
      "Highest temperature date: 2010-07\n"
     ]
    }
   ],
   "source": [
    "query = {\n",
    "    \"LOCAL_YEAR\": {\"$gte\": 1976, \"$lte\": 2023}\n",
    "}\n",
    "\n",
    "matching_documents = Clean_Climate_Data.find(query)\n",
    "\n",
    "highest_temperature = float('-inf')  # Initialize with negative infinity\n",
    "highest_temperature_date = None\n",
    "\n",
    "for document in matching_documents:\n",
    "    mean_temperature = document['MEAN_TEMPERATURE']\n",
    "    if mean_temperature > highest_temperature:\n",
    "        highest_temperature = mean_temperature\n",
    "        highest_temperature_date = document['LOCAL_DATE']\n",
    "\n",
    "if highest_temperature_date:\n",
    "    print(\"Highest temperature date:\", highest_temperature_date)\n",
    "else:\n",
    "    print(\"No data found for the specified years.\")"
   ]
  },
  {
   "cell_type": "code",
   "execution_count": 27,
   "id": "acf0d159",
   "metadata": {},
   "outputs": [
    {
     "name": "stdout",
     "output_type": "stream",
     "text": [
      "IDF: 1215\n",
      "IDO: 816\n",
      "INC: 1340\n",
      "LTG: 30320\n",
      "MIS: 6550\n",
      "REC: 11332\n",
      "RES: 6372\n",
      "RWY: 4498\n",
      "UNK: 1262\n"
     ]
    }
   ],
   "source": [
    "# Define the possible FIRE_GENERAL_CAUSE_CODE values\n",
    "cause_codes = [\"IDF\", \"IDO\", \"INC\", \"LTG\", \"MIS\", \"REC\", \"RES\", \"RWY\", \"UNK\"]\n",
    "\n",
    "# Initialize a dictionary to count the occurrences of each cause code\n",
    "cause_code_counts = {code: 0 for code in cause_codes}\n",
    "\n",
    "# Query documents with FIRE_GENERAL_CAUSE_CODE and aggregate counts\n",
    "pipeline = [\n",
    "    {\n",
    "        \"$match\": {\n",
    "            \"FIRE_GENERAL_CAUSE_CODE\": {\"$in\": cause_codes}\n",
    "        }\n",
    "    },\n",
    "    {\n",
    "        \"$group\": {\n",
    "            \"_id\": \"$FIRE_GENERAL_CAUSE_CODE\",\n",
    "            \"count\": {\"$sum\": 1}\n",
    "        }\n",
    "    }\n",
    "]\n",
    "\n",
    "# Execute the aggregation and update cause_code_counts dictionary\n",
    "result = list(Fire_Point.aggregate(pipeline))\n",
    "for item in result:\n",
    "    cause_code_counts[item['_id']] = item['count']\n",
    "\n",
    "# Print the cause code counts\n",
    "for code, count in cause_code_counts.items():\n",
    "    print(f\"{code}: {count}\")"
   ]
  },
  {
   "cell_type": "code",
   "execution_count": 28,
   "id": "e5c24d0b",
   "metadata": {},
   "outputs": [
    {
     "name": "stdout",
     "output_type": "stream",
     "text": [
      "Unique Field Names: dict_keys(['_id', 'X', 'Y', 'OGF_ID', 'FIRE_DISTURBANCE_AREA_IDENT', 'FIRE_TYPE_CODE', 'FIRE_YEAR', 'FIRE_GENERAL_CAUSE_CODE', 'FIRE_RESPONSE_OBJ_CODE', 'FIRE_START_DATE', 'FIRE_OUT_DATE', 'FIRE_FINAL_SIZE', 'BUSINESS_EFFECTIVE_DATE', 'GEOMETRY_UPDATE_DATETIME', 'EFFECTIVE_DATETIME', 'SYSTEM_DATETIME', 'OBJECTID'])\n"
     ]
    }
   ],
   "source": [
    "sample_document = Fire_Point.find_one()\n",
    "\n",
    "# Print the unique field names in the sample document\n",
    "unique_field_names = sample_document.keys()\n",
    "print(\"Unique Field Names:\", unique_field_names)"
   ]
  },
  {
   "cell_type": "code",
   "execution_count": 10,
   "id": "94a7728f",
   "metadata": {},
   "outputs": [
    {
     "data": {
      "text/plain": [
       "{'_id': ObjectId('64dea71ec5e0b4c20e75ddac'),\n",
       " 'X': -88.0381067819566,\n",
       " 'Y': 49.022808928125,\n",
       " 'OGF_ID': 43129190,\n",
       " 'FIRE_DISTURBANCE_AREA_IDENT': 'NIP2',\n",
       " 'FIRE_TYPE_CODE': 'IFR',\n",
       " 'FIRE_YEAR': 2003,\n",
       " 'FIRE_GENERAL_CAUSE_CODE': 'RWY',\n",
       " 'FIRE_RESPONSE_OBJ_CODE': 'SUP',\n",
       " 'FIRE_START_DATE': '2003/04/13 00:00:00+00',\n",
       " 'FIRE_OUT_DATE': '2003/04/14 00:00:00+00',\n",
       " 'FIRE_FINAL_SIZE': 1.5,\n",
       " 'BUSINESS_EFFECTIVE_DATE': '2004/06/16 00:00:00+00',\n",
       " 'GEOMETRY_UPDATE_DATETIME': '',\n",
       " 'EFFECTIVE_DATETIME': '2004/06/16 00:00:00+00',\n",
       " 'SYSTEM_DATETIME': '2005/04/22 08:35:11+00',\n",
       " 'OBJECTID': 1}"
      ]
     },
     "execution_count": 10,
     "metadata": {},
     "output_type": "execute_result"
    }
   ],
   "source": [
    "sample_document = Fire_Point.find_one()\n",
    "sample_document"
   ]
  },
  {
   "cell_type": "code",
   "execution_count": null,
   "id": "ca5d6e36",
   "metadata": {},
   "outputs": [],
   "source": []
  },
  {
   "cell_type": "code",
   "execution_count": null,
   "id": "96c164cb",
   "metadata": {},
   "outputs": [],
   "source": []
  }
 ],
 "metadata": {
  "kernelspec": {
   "display_name": "Python 3 (ipykernel)",
   "language": "python",
   "name": "python3"
  },
  "language_info": {
   "codemirror_mode": {
    "name": "ipython",
    "version": 3
   },
   "file_extension": ".py",
   "mimetype": "text/x-python",
   "name": "python",
   "nbconvert_exporter": "python",
   "pygments_lexer": "ipython3",
   "version": "3.10.11"
  }
 },
 "nbformat": 4,
 "nbformat_minor": 5
}
