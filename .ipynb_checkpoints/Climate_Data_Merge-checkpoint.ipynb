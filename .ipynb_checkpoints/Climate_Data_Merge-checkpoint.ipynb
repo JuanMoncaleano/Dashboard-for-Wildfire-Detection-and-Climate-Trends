{
 "cells": [
  {
   "cell_type": "code",
   "execution_count": 8,
   "id": "6508c753",
   "metadata": {},
   "outputs": [],
   "source": [
    "import pandas as pd\n",
    "files = ['01', '02', '03', '04', '05', '06', '07', '08', '09', '10', '11', '12', '13']\n",
    "climate_df = pd.DataFrame()\n",
    "for file in files:\n",
    "    data = pd.read_csv(f\"data/climate-monthly-{file}.csv\")\n",
    "    climate_df = pd.concat([climate_df, data], axis=0)\n",
    "climate_df.to_csv('data/climate-monthly-all.csv', index=False)"
   ]
  }
 ],
 "metadata": {
  "kernelspec": {
   "display_name": "Python 3 (ipykernel)",
   "language": "python",
   "name": "python3"
  },
  "language_info": {
   "codemirror_mode": {
    "name": "ipython",
    "version": 3
   },
   "file_extension": ".py",
   "mimetype": "text/x-python",
   "name": "python",
   "nbconvert_exporter": "python",
   "pygments_lexer": "ipython3",
   "version": "3.10.11"
  }
 },
 "nbformat": 4,
 "nbformat_minor": 5
}
